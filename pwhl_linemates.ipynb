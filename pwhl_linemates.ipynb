{
  "nbformat": 4,
  "nbformat_minor": 0,
  "metadata": {
    "colab": {
      "provenance": []
    },
    "kernelspec": {
      "name": "python3",
      "display_name": "Python 3"
    },
    "language_info": {
      "name": "python"
    }
  },
  "cells": [
    {
      "cell_type": "code",
      "source": [
        "import pandas as pd\n",
        "# import numpy as np\n",
        "# import matplotlib.pyplot as plt\n",
        "\n",
        "teamname = str(input('What team do you want to look at? Please enter Boston, Minnesota, Montreal, New York, Ottawa, or Toronto:'))\n",
        "\n",
        "if teamname=='Minnesota':\n",
        "    ds = pd.read_csv('MinnesotaFrost_test.csv')\n",
        "    print('ope')\n",
        "elif teamname=='Boston':\n",
        "    ds = pd.read_csv('BostonFleet.csv')\n",
        "    print('GO FLEET GO!')\n",
        "elif teamname=='Montreal':\n",
        "    ds = pd.read_csv('MontrealVictoire.csv')\n",
        "    print('ALLEZ LA VICTOIRE!')\n",
        "elif teamname=='New York':\n",
        "    ds=pd.read_csv('NewYorkSirens.csv')\n",
        "elif teamname=='Ottawa':\n",
        "    ds = pd.read_csv('OttawaCharge.csv')\n",
        "    print('GO CHARGE GO!')\n",
        "elif teamname=='Toronto':\n",
        "    ds=pd.read_csv('TorontoSceptres.csv')\n",
        "    print('GO T.O.!')\n",
        "else:\n",
        "    print('Sorry, I do not recognize that team name')\n",
        "    quit"
      ],
      "metadata": {
        "colab": {
          "base_uri": "https://localhost:8080/"
        },
        "id": "jPTSi11PYIyw",
        "outputId": "78ef3f66-ba71-4490-bd00-3026e4b38487"
      },
      "execution_count": null,
      "outputs": [
        {
          "output_type": "stream",
          "name": "stdout",
          "text": [
            "What team do you want to look at? Please enter Boston, Minnesota, Montreal, New York, Ottawa, or Toronto:Toronto\n",
            "GO T.O.!\n"
          ]
        }
      ]
    },
    {
      "cell_type": "markdown",
      "source": [
        "Make sure your capslock is off and you write the city name and player names with the first letter only capitalized"
      ],
      "metadata": {
        "id": "eVKj0QHXhKkB"
      }
    },
    {
      "cell_type": "code",
      "source": [
        "player_name = str(input('Enter player last name, with no accents:'))\n",
        "\n",
        "# print(ds[ds.applymap(lambda x: x == player_name).any(axis=1)])\n",
        "\n",
        "linemates_counts = {}\n",
        "\n",
        "linemates=[]\n",
        "\n",
        "for player in ds['P2'].where(ds['P1']==player_name).dropna().values:\n",
        "    if player not in linemates:\n",
        "        linemates.append(player)\n",
        "        linemates_counts[player]=1\n",
        "    else:\n",
        "        linemates_counts[player]=linemates_counts[player]+1\n",
        "\n",
        "for player in ds['P3'].where(ds['P1']==player_name).dropna().values:\n",
        "    if player not in linemates:\n",
        "        linemates.append(player)\n",
        "        linemates_counts[player]=1\n",
        "    else:\n",
        "        linemates_counts[player]=linemates_counts[player]+1\n",
        "\n",
        "for player in ds['P1'].where(ds['P2']==player_name).dropna().values:\n",
        "    if player not in linemates:\n",
        "        linemates.append(player)\n",
        "        linemates_counts[player]=1\n",
        "    else:\n",
        "        linemates_counts[player]=linemates_counts[player]+1\n",
        "\n",
        "for player in ds['P3'].where(ds['P2']==player_name).dropna().values:\n",
        "    if player not in linemates:\n",
        "        linemates.append(player)\n",
        "        linemates_counts[player]=1\n",
        "    else:\n",
        "        linemates_counts[player]=linemates_counts[player]+1\n",
        "\n",
        "for player in ds['P1'].where(ds['P3']==player_name).dropna().values:\n",
        "    if player not in linemates:\n",
        "        linemates.append(player)\n",
        "        linemates_counts[player]=1\n",
        "    else:\n",
        "        linemates_counts[player]=linemates_counts[player]+1\n",
        "\n",
        "for player in ds['P2'].where(ds['P3']==player_name).dropna().values:\n",
        "    if player not in linemates:\n",
        "        linemates.append(player)\n",
        "        linemates_counts[player]=1\n",
        "    else:\n",
        "        linemates_counts[player]=linemates_counts[player]+1\n",
        "\n",
        "print(linemates_counts)\n"
      ],
      "metadata": {
        "id": "wAVKp5_PgznF",
        "outputId": "03d5eba0-b465-4fbd-c13a-143d94c33427",
        "colab": {
          "base_uri": "https://localhost:8080/"
        }
      },
      "execution_count": null,
      "outputs": [
        {
          "output_type": "stream",
          "name": "stdout",
          "text": [
            "Enter player last name, with no accents:Watts\n",
            "{'Nurse': 13, 'Miller': 22, 'Maltais': 4, 'Daniel': 10, 'Bach': 1, 'Connors': 1, 'Spooner': 4, 'Gosling': 3, 'Compher': 2}\n"
          ]
        }
      ]
    },
    {
      "cell_type": "code",
      "source": [
        "linemates_counts={}\n",
        "linemates=[]\n",
        "\n",
        "are_you_done = 'no'\n",
        "are_you_done = str(input('Do you want to add a second player? (yes/no):'))\n",
        "\n",
        "if are_you_done in ['yes','YES','Yes']:\n",
        "    player2_name = str(input('Enter second player last name:'))\n",
        "\n",
        "    for player in ds['P3'].where(ds['P1']==player_name).dropna().where(ds['P2']==player2_name).dropna().values:\n",
        "        if player not in linemates:\n",
        "            linemates.append(player)\n",
        "            linemates_counts[player]=1\n",
        "        else:\n",
        "            linemates_counts[player]=linemates_counts[player]+1\n",
        "\n",
        "    for player in ds['P3'].where(ds['P2']==player_name).dropna().where(ds['P1']==player2_name).dropna().values:\n",
        "        if player not in linemates:\n",
        "            linemates.append(player)\n",
        "            linemates_counts[player]=1\n",
        "        else:\n",
        "            linemates_counts[player]=linemates_counts[player]+1\n",
        "\n",
        "    for player in ds['P2'].where(ds['P1']==player_name).dropna().where(ds['P3']==player2_name).dropna().values:\n",
        "        if player not in linemates:\n",
        "            linemates.append(player)\n",
        "            linemates_counts[player]=1\n",
        "        else:\n",
        "            linemates_counts[player]=linemates_counts[player]+1\n",
        "\n",
        "    for player in ds['P2'].where(ds['P3']==player_name).dropna().where(ds['P1']==player2_name).dropna().values:\n",
        "        if player not in linemates:\n",
        "            linemates.append(player)\n",
        "            linemates_counts[player]=1\n",
        "        else:\n",
        "            linemates_counts[player]=linemates_counts[player]+1\n",
        "\n",
        "    for player in ds['P1'].where(ds['P2']==player_name).dropna().where(ds['P3']==player2_name).dropna().values:\n",
        "        if player not in linemates:\n",
        "            linemates.append(player)\n",
        "            linemates_counts[player]=1\n",
        "        else:\n",
        "            linemates_counts[player]=linemates_counts[player]+1\n",
        "\n",
        "    for player in ds['P1'].where(ds['P3']==player_name).dropna().where(ds['P2']==player2_name).dropna().values:\n",
        "        if player not in linemates:\n",
        "            linemates.append(player)\n",
        "            linemates_counts[player]=1\n",
        "        else:\n",
        "            linemates_counts[player]=linemates_counts[player]+1\n",
        "\n",
        "    print(linemates_counts)"
      ],
      "metadata": {
        "id": "Hu8xXvAxg6jg"
      },
      "execution_count": null,
      "outputs": []
    }
  ]
}